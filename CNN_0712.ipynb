{
  "cells": [
    {
      "cell_type": "code",
      "execution_count": null,
      "id": "58e37bd9-0650-4ac0-b2d2-91893d4a9b3d",
      "metadata": {
        "colab": {
          "base_uri": "https://localhost:8080/"
        },
        "id": "58e37bd9-0650-4ac0-b2d2-91893d4a9b3d",
        "outputId": "726c453e-5704-4a1d-d15a-253c6d18fbb4"
      },
      "outputs": [
        {
          "output_type": "stream",
          "name": "stdout",
          "text": [
            "Requirement already satisfied: albumentations in /usr/local/lib/python3.10/dist-packages (1.2.1)\n",
            "Requirement already satisfied: numpy>=1.11.1 in /usr/local/lib/python3.10/dist-packages (from albumentations) (1.22.4)\n",
            "Requirement already satisfied: scipy in /usr/local/lib/python3.10/dist-packages (from albumentations) (1.10.1)\n",
            "Requirement already satisfied: scikit-image>=0.16.1 in /usr/local/lib/python3.10/dist-packages (from albumentations) (0.19.3)\n",
            "Requirement already satisfied: PyYAML in /usr/local/lib/python3.10/dist-packages (from albumentations) (6.0)\n",
            "Requirement already satisfied: qudida>=0.0.4 in /usr/local/lib/python3.10/dist-packages (from albumentations) (0.0.4)\n",
            "Requirement already satisfied: opencv-python-headless>=4.1.1 in /usr/local/lib/python3.10/dist-packages (from albumentations) (4.8.0.74)\n",
            "Requirement already satisfied: scikit-learn>=0.19.1 in /usr/local/lib/python3.10/dist-packages (from qudida>=0.0.4->albumentations) (1.2.2)\n",
            "Requirement already satisfied: typing-extensions in /usr/local/lib/python3.10/dist-packages (from qudida>=0.0.4->albumentations) (4.7.1)\n",
            "Requirement already satisfied: networkx>=2.2 in /usr/local/lib/python3.10/dist-packages (from scikit-image>=0.16.1->albumentations) (3.1)\n",
            "Requirement already satisfied: pillow!=7.1.0,!=7.1.1,!=8.3.0,>=6.1.0 in /usr/local/lib/python3.10/dist-packages (from scikit-image>=0.16.1->albumentations) (8.4.0)\n",
            "Requirement already satisfied: imageio>=2.4.1 in /usr/local/lib/python3.10/dist-packages (from scikit-image>=0.16.1->albumentations) (2.25.1)\n",
            "Requirement already satisfied: tifffile>=2019.7.26 in /usr/local/lib/python3.10/dist-packages (from scikit-image>=0.16.1->albumentations) (2023.7.4)\n",
            "Requirement already satisfied: PyWavelets>=1.1.1 in /usr/local/lib/python3.10/dist-packages (from scikit-image>=0.16.1->albumentations) (1.4.1)\n",
            "Requirement already satisfied: packaging>=20.0 in /usr/local/lib/python3.10/dist-packages (from scikit-image>=0.16.1->albumentations) (23.1)\n",
            "Requirement already satisfied: joblib>=1.1.1 in /usr/local/lib/python3.10/dist-packages (from scikit-learn>=0.19.1->qudida>=0.0.4->albumentations) (1.3.1)\n",
            "Requirement already satisfied: threadpoolctl>=2.0.0 in /usr/local/lib/python3.10/dist-packages (from scikit-learn>=0.19.1->qudida>=0.0.4->albumentations) (3.1.0)\n",
            "Collecting git+https://github.com/katsura-jp/pytorch-cosine-annealing-with-warmup\n",
            "  Cloning https://github.com/katsura-jp/pytorch-cosine-annealing-with-warmup to /tmp/pip-req-build-rcf5bege\n",
            "  Running command git clone --filter=blob:none --quiet https://github.com/katsura-jp/pytorch-cosine-annealing-with-warmup /tmp/pip-req-build-rcf5bege\n",
            "  Resolved https://github.com/katsura-jp/pytorch-cosine-annealing-with-warmup to commit 12d03c07553aedd3d9e9155e2b3e31ce8c64081a\n",
            "  Preparing metadata (setup.py) ... \u001b[?25l\u001b[?25hdone\n",
            "Building wheels for collected packages: cosine-annealing-warmup\n",
            "  Building wheel for cosine-annealing-warmup (setup.py) ... \u001b[?25l\u001b[?25hdone\n",
            "  Created wheel for cosine-annealing-warmup: filename=cosine_annealing_warmup-2.0-py3-none-any.whl size=4168 sha256=47343061b294fd6219954f00c2ee24d39d7a754657b4fec354f806a6eadb5d2d\n",
            "  Stored in directory: /tmp/pip-ephem-wheel-cache-q8fw_1ds/wheels/29/26/10/bf1a07417dd54aa73bdf09ce4f31c187974a444a1cedddbd99\n",
            "Successfully built cosine-annealing-warmup\n",
            "Installing collected packages: cosine-annealing-warmup\n",
            "Successfully installed cosine-annealing-warmup-2.0\n"
          ]
        }
      ],
      "source": [
        "!pip install albumentations\n",
        "!pip install 'git+https://github.com/katsura-jp/pytorch-cosine-annealing-with-warmup'"
      ]
    },
    {
      "cell_type": "code",
      "source": [
        "# Library\n",
        "import pandas as pd\n",
        "import numpy as np\n",
        "import os\n",
        "import torch.optim as optim\n",
        "from torch.nn import functional as F\n",
        "import sys\n",
        "import random\n",
        "import csv\n",
        "import cv2\n",
        "from tqdm import tqdm\n",
        "import warnings\n",
        "warnings.filterwarnings('ignore')\n",
        "from cosine_annealing_warmup import CosineAnnealingWarmupRestarts\n",
        "from PIL import Image\n",
        "import torch\n",
        "import torch.nn as nn\n",
        "from torchvision import transforms\n",
        "import torchvision.models as models\n",
        "from torch.utils.data import DataLoader,Dataset\n",
        "from sklearn.metrics import accuracy_score"
      ],
      "metadata": {
        "id": "iW51tFCFGCso"
      },
      "id": "iW51tFCFGCso",
      "execution_count": null,
      "outputs": []
    },
    {
      "cell_type": "code",
      "execution_count": null,
      "id": "7fd6d35f-b4cb-4441-8df0-d0c02c2ec388",
      "metadata": {
        "id": "7fd6d35f-b4cb-4441-8df0-d0c02c2ec388"
      },
      "outputs": [],
      "source": [
        "# Configures\n",
        "cfg={}\n",
        "cfg['batch_size'] = 8\n",
        "cfg['lr'] = 1e-4\n",
        "cfg['min_lr'] = 1e-7\n",
        "cfg['image_size'] = 256\n",
        "cfg['datasplit'] = 0.8\n",
        "cfg['epoch'] = 6\n",
        "cfg['device'] = torch.device(\"cuda\" if torch.cuda.is_available() else \"cpu\")\n",
        "cfg['seed'] = 20230712\n",
        "cfg['T0'] = 4"
      ]
    },
    {
      "cell_type": "code",
      "execution_count": null,
      "id": "a9c075c2-d19a-47da-bfda-6b48f36150a2",
      "metadata": {
        "id": "a9c075c2-d19a-47da-bfda-6b48f36150a2"
      },
      "outputs": [],
      "source": [
        "# Seed\n",
        "seed = cfg['seed']\n",
        "\n",
        "def setSeed(seed):\n",
        "    random.seed(seed)\n",
        "    os.environ['PYTHONHASHSEED'] = str(seed)\n",
        "    np.random.seed(seed)\n",
        "    pd.core.common.random_state(seed)\n",
        "    torch.manual_seed(seed)\n",
        "    torch.cuda.manual_seed(seed)\n",
        "    torch.backends.cudnn.deterministic = True\n",
        "\n",
        "setSeed(seed)"
      ]
    },
    {
      "cell_type": "code",
      "execution_count": null,
      "id": "118a0fb2-98af-4170-8ab1-0f355425592c",
      "metadata": {
        "colab": {
          "base_uri": "https://localhost:8080/"
        },
        "id": "118a0fb2-98af-4170-8ab1-0f355425592c",
        "outputId": "4af7f987-b2fe-4180-adda-5b2888131129"
      },
      "outputs": [
        {
          "output_type": "stream",
          "name": "stdout",
          "text": [
            "Mounted at /content/drive\n"
          ]
        }
      ],
      "source": [
        "# Load data\n",
        "from google.colab import drive\n",
        "drive.mount('/content/drive')\n",
        "\n",
        "base_path = \"./drive/My Drive/Colab Notebooks/shopee-product-matching\"\n",
        "train_image_path = os.path.join(base_path,'train_images')\n",
        "test_image_path = os.path.join(base_path,'test_images')\n",
        "\n",
        "sample_sub = os.path.join(base_path,'sample_submission.csv')"
      ]
    },
    {
      "cell_type": "code",
      "execution_count": null,
      "id": "a09bb5dc-0b85-413b-8960-0f31b88365ce",
      "metadata": {
        "colab": {
          "base_uri": "https://localhost:8080/",
          "height": 363
        },
        "id": "a09bb5dc-0b85-413b-8960-0f31b88365ce",
        "outputId": "4c239ce5-83f0-4686-e6e4-345dba753398"
      },
      "outputs": [
        {
          "output_type": "execute_result",
          "data": {
            "text/plain": [
              "         posting_id                                 image       image_phash  \\\n",
              "0   train_129225211  0000a68812bc7e98c42888dfb1c07da0.jpg  94974f937d4c2433   \n",
              "1  train_3386243561  00039780dfc94d01db8676fe789ecd05.jpg  af3f9460c2838f0f   \n",
              "2  train_2288590299  000a190fdd715a2a36faed16e2c65df7.jpg  b94cb00ed3e50f78   \n",
              "3  train_2406599165  00117e4fc239b1b641ff08340b429633.jpg  8514fc58eafea283   \n",
              "4  train_3369186413  00136d1cf4edede0203f32f05f660588.jpg  a6f319f924ad708c   \n",
              "5  train_2464356923  0013e7355ffc5ff8fb1ccad3e42d92fe.jpg  bbd097a7870f4a50   \n",
              "6  train_1802986387  00144a49c56599d45354a1c28104c039.jpg  f815c9bb833ab4c8   \n",
              "7  train_1806152124  0014f61389cbaa687a58e38a97b6383d.jpg  eea7e1c0c04da33d   \n",
              "8    train_86570404  0019a3c6755a194cb2e2c12bfc63972e.jpg  ea9af4f483249972   \n",
              "9   train_831680791  001be52b2beec40ddc1d2d7fc7a68f08.jpg  e1ce953d1a70618f   \n",
              "\n",
              "                                               title  label_group  \n",
              "0                          Paper Bag Victoria Secret    249114794  \n",
              "1  Double Tape 3M VHB 12 mm x 4,5 m ORIGINAL / DO...   2937985045  \n",
              "2        Maling TTS Canned Pork Luncheon Meat 397 gr   2395904891  \n",
              "3  Daster Batik Lengan pendek - Motif Acak / Camp...   4093212188  \n",
              "4                  Nescafe \\xc3\\x89clair Latte 220ml   3648931069  \n",
              "5  CELANA WANITA  (BB 45-84 KG)Harem wanita (bisa...   2660605217  \n",
              "6                           Jubah anak size 1-12 thn   1835033137  \n",
              "7  KULOT PLISKET SALUR /CANDY PLISKET /WISH KULOT...   1565741687  \n",
              "8  [LOGU] Tempelan kulkas magnet angka, tempelan ...   2359912463  \n",
              "9  BIG SALE SEPATU PANTOFEL KULIT KEREN KERJA KAN...   2630990665  "
            ],
            "text/html": [
              "\n",
              "\n",
              "  <div id=\"df-8126bedc-dd39-477f-8a8b-c8a88e11cfce\">\n",
              "    <div class=\"colab-df-container\">\n",
              "      <div>\n",
              "<style scoped>\n",
              "    .dataframe tbody tr th:only-of-type {\n",
              "        vertical-align: middle;\n",
              "    }\n",
              "\n",
              "    .dataframe tbody tr th {\n",
              "        vertical-align: top;\n",
              "    }\n",
              "\n",
              "    .dataframe thead th {\n",
              "        text-align: right;\n",
              "    }\n",
              "</style>\n",
              "<table border=\"1\" class=\"dataframe\">\n",
              "  <thead>\n",
              "    <tr style=\"text-align: right;\">\n",
              "      <th></th>\n",
              "      <th>posting_id</th>\n",
              "      <th>image</th>\n",
              "      <th>image_phash</th>\n",
              "      <th>title</th>\n",
              "      <th>label_group</th>\n",
              "    </tr>\n",
              "  </thead>\n",
              "  <tbody>\n",
              "    <tr>\n",
              "      <th>0</th>\n",
              "      <td>train_129225211</td>\n",
              "      <td>0000a68812bc7e98c42888dfb1c07da0.jpg</td>\n",
              "      <td>94974f937d4c2433</td>\n",
              "      <td>Paper Bag Victoria Secret</td>\n",
              "      <td>249114794</td>\n",
              "    </tr>\n",
              "    <tr>\n",
              "      <th>1</th>\n",
              "      <td>train_3386243561</td>\n",
              "      <td>00039780dfc94d01db8676fe789ecd05.jpg</td>\n",
              "      <td>af3f9460c2838f0f</td>\n",
              "      <td>Double Tape 3M VHB 12 mm x 4,5 m ORIGINAL / DO...</td>\n",
              "      <td>2937985045</td>\n",
              "    </tr>\n",
              "    <tr>\n",
              "      <th>2</th>\n",
              "      <td>train_2288590299</td>\n",
              "      <td>000a190fdd715a2a36faed16e2c65df7.jpg</td>\n",
              "      <td>b94cb00ed3e50f78</td>\n",
              "      <td>Maling TTS Canned Pork Luncheon Meat 397 gr</td>\n",
              "      <td>2395904891</td>\n",
              "    </tr>\n",
              "    <tr>\n",
              "      <th>3</th>\n",
              "      <td>train_2406599165</td>\n",
              "      <td>00117e4fc239b1b641ff08340b429633.jpg</td>\n",
              "      <td>8514fc58eafea283</td>\n",
              "      <td>Daster Batik Lengan pendek - Motif Acak / Camp...</td>\n",
              "      <td>4093212188</td>\n",
              "    </tr>\n",
              "    <tr>\n",
              "      <th>4</th>\n",
              "      <td>train_3369186413</td>\n",
              "      <td>00136d1cf4edede0203f32f05f660588.jpg</td>\n",
              "      <td>a6f319f924ad708c</td>\n",
              "      <td>Nescafe \\xc3\\x89clair Latte 220ml</td>\n",
              "      <td>3648931069</td>\n",
              "    </tr>\n",
              "    <tr>\n",
              "      <th>5</th>\n",
              "      <td>train_2464356923</td>\n",
              "      <td>0013e7355ffc5ff8fb1ccad3e42d92fe.jpg</td>\n",
              "      <td>bbd097a7870f4a50</td>\n",
              "      <td>CELANA WANITA  (BB 45-84 KG)Harem wanita (bisa...</td>\n",
              "      <td>2660605217</td>\n",
              "    </tr>\n",
              "    <tr>\n",
              "      <th>6</th>\n",
              "      <td>train_1802986387</td>\n",
              "      <td>00144a49c56599d45354a1c28104c039.jpg</td>\n",
              "      <td>f815c9bb833ab4c8</td>\n",
              "      <td>Jubah anak size 1-12 thn</td>\n",
              "      <td>1835033137</td>\n",
              "    </tr>\n",
              "    <tr>\n",
              "      <th>7</th>\n",
              "      <td>train_1806152124</td>\n",
              "      <td>0014f61389cbaa687a58e38a97b6383d.jpg</td>\n",
              "      <td>eea7e1c0c04da33d</td>\n",
              "      <td>KULOT PLISKET SALUR /CANDY PLISKET /WISH KULOT...</td>\n",
              "      <td>1565741687</td>\n",
              "    </tr>\n",
              "    <tr>\n",
              "      <th>8</th>\n",
              "      <td>train_86570404</td>\n",
              "      <td>0019a3c6755a194cb2e2c12bfc63972e.jpg</td>\n",
              "      <td>ea9af4f483249972</td>\n",
              "      <td>[LOGU] Tempelan kulkas magnet angka, tempelan ...</td>\n",
              "      <td>2359912463</td>\n",
              "    </tr>\n",
              "    <tr>\n",
              "      <th>9</th>\n",
              "      <td>train_831680791</td>\n",
              "      <td>001be52b2beec40ddc1d2d7fc7a68f08.jpg</td>\n",
              "      <td>e1ce953d1a70618f</td>\n",
              "      <td>BIG SALE SEPATU PANTOFEL KULIT KEREN KERJA KAN...</td>\n",
              "      <td>2630990665</td>\n",
              "    </tr>\n",
              "  </tbody>\n",
              "</table>\n",
              "</div>\n",
              "      <button class=\"colab-df-convert\" onclick=\"convertToInteractive('df-8126bedc-dd39-477f-8a8b-c8a88e11cfce')\"\n",
              "              title=\"Convert this dataframe to an interactive table.\"\n",
              "              style=\"display:none;\">\n",
              "\n",
              "  <svg xmlns=\"http://www.w3.org/2000/svg\" height=\"24px\"viewBox=\"0 0 24 24\"\n",
              "       width=\"24px\">\n",
              "    <path d=\"M0 0h24v24H0V0z\" fill=\"none\"/>\n",
              "    <path d=\"M18.56 5.44l.94 2.06.94-2.06 2.06-.94-2.06-.94-.94-2.06-.94 2.06-2.06.94zm-11 1L8.5 8.5l.94-2.06 2.06-.94-2.06-.94L8.5 2.5l-.94 2.06-2.06.94zm10 10l.94 2.06.94-2.06 2.06-.94-2.06-.94-.94-2.06-.94 2.06-2.06.94z\"/><path d=\"M17.41 7.96l-1.37-1.37c-.4-.4-.92-.59-1.43-.59-.52 0-1.04.2-1.43.59L10.3 9.45l-7.72 7.72c-.78.78-.78 2.05 0 2.83L4 21.41c.39.39.9.59 1.41.59.51 0 1.02-.2 1.41-.59l7.78-7.78 2.81-2.81c.8-.78.8-2.07 0-2.86zM5.41 20L4 18.59l7.72-7.72 1.47 1.35L5.41 20z\"/>\n",
              "  </svg>\n",
              "      </button>\n",
              "\n",
              "\n",
              "\n",
              "    <div id=\"df-24595be5-bfa4-4ed4-98e3-4d6f58686f17\">\n",
              "      <button class=\"colab-df-quickchart\" onclick=\"quickchart('df-24595be5-bfa4-4ed4-98e3-4d6f58686f17')\"\n",
              "              title=\"Suggest charts.\"\n",
              "              style=\"display:none;\">\n",
              "\n",
              "<svg xmlns=\"http://www.w3.org/2000/svg\" height=\"24px\"viewBox=\"0 0 24 24\"\n",
              "     width=\"24px\">\n",
              "    <g>\n",
              "        <path d=\"M19 3H5c-1.1 0-2 .9-2 2v14c0 1.1.9 2 2 2h14c1.1 0 2-.9 2-2V5c0-1.1-.9-2-2-2zM9 17H7v-7h2v7zm4 0h-2V7h2v10zm4 0h-2v-4h2v4z\"/>\n",
              "    </g>\n",
              "</svg>\n",
              "      </button>\n",
              "    </div>\n",
              "\n",
              "<style>\n",
              "  .colab-df-quickchart {\n",
              "    background-color: #E8F0FE;\n",
              "    border: none;\n",
              "    border-radius: 50%;\n",
              "    cursor: pointer;\n",
              "    display: none;\n",
              "    fill: #1967D2;\n",
              "    height: 32px;\n",
              "    padding: 0 0 0 0;\n",
              "    width: 32px;\n",
              "  }\n",
              "\n",
              "  .colab-df-quickchart:hover {\n",
              "    background-color: #E2EBFA;\n",
              "    box-shadow: 0px 1px 2px rgba(60, 64, 67, 0.3), 0px 1px 3px 1px rgba(60, 64, 67, 0.15);\n",
              "    fill: #174EA6;\n",
              "  }\n",
              "\n",
              "  [theme=dark] .colab-df-quickchart {\n",
              "    background-color: #3B4455;\n",
              "    fill: #D2E3FC;\n",
              "  }\n",
              "\n",
              "  [theme=dark] .colab-df-quickchart:hover {\n",
              "    background-color: #434B5C;\n",
              "    box-shadow: 0px 1px 3px 1px rgba(0, 0, 0, 0.15);\n",
              "    filter: drop-shadow(0px 1px 2px rgba(0, 0, 0, 0.3));\n",
              "    fill: #FFFFFF;\n",
              "  }\n",
              "</style>\n",
              "\n",
              "    <script>\n",
              "      async function quickchart(key) {\n",
              "        const containerElement = document.querySelector('#' + key);\n",
              "        const charts = await google.colab.kernel.invokeFunction(\n",
              "            'suggestCharts', [key], {});\n",
              "      }\n",
              "    </script>\n",
              "\n",
              "      <script>\n",
              "\n",
              "function displayQuickchartButton(domScope) {\n",
              "  let quickchartButtonEl =\n",
              "    domScope.querySelector('#df-24595be5-bfa4-4ed4-98e3-4d6f58686f17 button.colab-df-quickchart');\n",
              "  quickchartButtonEl.style.display =\n",
              "    google.colab.kernel.accessAllowed ? 'block' : 'none';\n",
              "}\n",
              "\n",
              "        displayQuickchartButton(document);\n",
              "      </script>\n",
              "      <style>\n",
              "    .colab-df-container {\n",
              "      display:flex;\n",
              "      flex-wrap:wrap;\n",
              "      gap: 12px;\n",
              "    }\n",
              "\n",
              "    .colab-df-convert {\n",
              "      background-color: #E8F0FE;\n",
              "      border: none;\n",
              "      border-radius: 50%;\n",
              "      cursor: pointer;\n",
              "      display: none;\n",
              "      fill: #1967D2;\n",
              "      height: 32px;\n",
              "      padding: 0 0 0 0;\n",
              "      width: 32px;\n",
              "    }\n",
              "\n",
              "    .colab-df-convert:hover {\n",
              "      background-color: #E2EBFA;\n",
              "      box-shadow: 0px 1px 2px rgba(60, 64, 67, 0.3), 0px 1px 3px 1px rgba(60, 64, 67, 0.15);\n",
              "      fill: #174EA6;\n",
              "    }\n",
              "\n",
              "    [theme=dark] .colab-df-convert {\n",
              "      background-color: #3B4455;\n",
              "      fill: #D2E3FC;\n",
              "    }\n",
              "\n",
              "    [theme=dark] .colab-df-convert:hover {\n",
              "      background-color: #434B5C;\n",
              "      box-shadow: 0px 1px 3px 1px rgba(0, 0, 0, 0.15);\n",
              "      filter: drop-shadow(0px 1px 2px rgba(0, 0, 0, 0.3));\n",
              "      fill: #FFFFFF;\n",
              "    }\n",
              "  </style>\n",
              "\n",
              "      <script>\n",
              "        const buttonEl =\n",
              "          document.querySelector('#df-8126bedc-dd39-477f-8a8b-c8a88e11cfce button.colab-df-convert');\n",
              "        buttonEl.style.display =\n",
              "          google.colab.kernel.accessAllowed ? 'block' : 'none';\n",
              "\n",
              "        async function convertToInteractive(key) {\n",
              "          const element = document.querySelector('#df-8126bedc-dd39-477f-8a8b-c8a88e11cfce');\n",
              "          const dataTable =\n",
              "            await google.colab.kernel.invokeFunction('convertToInteractive',\n",
              "                                                     [key], {});\n",
              "          if (!dataTable) return;\n",
              "\n",
              "          const docLinkHtml = 'Like what you see? Visit the ' +\n",
              "            '<a target=\"_blank\" href=https://colab.research.google.com/notebooks/data_table.ipynb>data table notebook</a>'\n",
              "            + ' to learn more about interactive tables.';\n",
              "          element.innerHTML = '';\n",
              "          dataTable['output_type'] = 'display_data';\n",
              "          await google.colab.output.renderOutput(dataTable, element);\n",
              "          const docLink = document.createElement('div');\n",
              "          docLink.innerHTML = docLinkHtml;\n",
              "          element.appendChild(docLink);\n",
              "        }\n",
              "      </script>\n",
              "    </div>\n",
              "  </div>\n"
            ]
          },
          "metadata": {},
          "execution_count": 6
        }
      ],
      "source": [
        "all_data_df = pd.read_csv(os.path.join(base_path,'train.csv'))\n",
        "all_data_df.head(10)"
      ]
    },
    {
      "cell_type": "code",
      "execution_count": null,
      "id": "112a34ac-542d-4350-bdf4-7aa3585e671e",
      "metadata": {
        "id": "112a34ac-542d-4350-bdf4-7aa3585e671e"
      },
      "outputs": [],
      "source": [
        "# Image Augumentation\n",
        "import albumentations\n",
        "from albumentations import (\n",
        "    Compose, OneOf, Normalize, Resize, RandomResizedCrop, RandomCrop, HorizontalFlip, VerticalFlip,\n",
        "    RandomBrightness, RandomContrast, RandomBrightnessContrast, Rotate, ShiftScaleRotate, Cutout,\n",
        "    IAAAdditiveGaussianNoise, Transpose, HueSaturationValue,\n",
        "    )\n",
        "from albumentations.pytorch import ToTensorV2\n",
        "\n",
        "def get_train_transforms(Config):\n",
        "    return albumentations.Compose([\n",
        "        albumentations.RandomCrop(cfg['image_size'], cfg['image_size']),\n",
        "        albumentations.HorizontalFlip(p=0.5),\n",
        "        albumentations.VerticalFlip(0.5),\n",
        "        albumentations.Transpose(p=0.5),\n",
        "        albumentations.Rotate(limit=(-90, 90), p=0.5),\n",
        "        albumentations.OneOf([\n",
        "           albumentations.ShiftScaleRotate(),\n",
        "           albumentations.ElasticTransform(alpha=3)\n",
        "        ], p=0.5),\n",
        "        albumentations.OneOf([\n",
        "           albumentations.OpticalDistortion(distort_limit=1.0),\n",
        "           albumentations.GridDistortion(num_steps=5, distort_limit=1.0)\n",
        "        ], p=0.5),\n",
        "        albumentations.Cutout(max_h_size=int(cfg['image_size'] * 0.375), max_w_size=int(cfg['image_size'] * 0.375), num_holes=1, p=0.5),\n",
        "        albumentations.Normalize(mean=[0.485,0.456,0.406], std=[0.229,0.224,0.225], max_pixel_value=255, p=1.0),\n",
        "        ToTensorV2(p=1.0)\n",
        "    ])\n",
        "def get_test_transforms(Config):\n",
        "    return albumentations.Compose([\n",
        "        albumentations.CenterCrop(p=1.0, height = cfg['image_size'], width = cfg['image_size']),\n",
        "        albumentations.Normalize(mean=[0.485,0.456,0.406], std=[0.229,0.224,0.225], max_pixel_value=255, p=1.0),\n",
        "        ToTensorV2(p=1.0)\n",
        "    ])"
      ]
    },
    {
      "cell_type": "code",
      "execution_count": null,
      "id": "02052e96-510d-47b6-91b6-cb375ace7b3a",
      "metadata": {
        "id": "02052e96-510d-47b6-91b6-cb375ace7b3a"
      },
      "outputs": [],
      "source": [
        "# Dataset for Siamese Model\n",
        "class SiameseDataset(Dataset):\n",
        "    def __init__(self,image_1,image_2,labels,dim=(cfg['image_size'],cfg['image_size']),augmentation=None):\n",
        "        self.image_1 = image_1\n",
        "        self.image_2 = image_2\n",
        "        self.labels = labels\n",
        "        self.dim = dim\n",
        "        self.augmentation = augmentation\n",
        "\n",
        "    def __len__(self):\n",
        "        return len(self.image_1)\n",
        "\n",
        "    def __getitem__(self,index):\n",
        "        img_0 = self.image_1[index]\n",
        "        img_1 = self.image_2[index]\n",
        "\n",
        "        img_0 = cv2.imread(f'{train_image_path}/{img_0}')\n",
        "        img_1 = cv2.imread(f'{train_image_path}/{img_1}')\n",
        "\n",
        "        img_0 = cv2.cvtColor(img_0, cv2.COLOR_BGR2RGB)\n",
        "        img_1 = cv2.cvtColor(img_1, cv2.COLOR_BGR2RGB)\n",
        "\n",
        "        if self.dim:\n",
        "            img_0 = cv2.resize(img_0,self.dim)\n",
        "            img_1 = cv2.resize(img_1,self.dim)\n",
        "\n",
        "        if self.augmentation:\n",
        "            augmented_0 = self.augmentation(image=img_0)\n",
        "            augmented_1 = self.augmentation(image=img_1)\n",
        "            img_0 = augmented_0['image']\n",
        "            img_1 = augmented_1['image']\n",
        "\n",
        "\n",
        "        return img_0,img_1 ,torch.tensor(self.labels[index],dtype=torch.float32)"
      ]
    },
    {
      "cell_type": "code",
      "execution_count": null,
      "id": "311f92a4-e657-45cd-9743-338df178d1a3",
      "metadata": {
        "id": "311f92a4-e657-45cd-9743-338df178d1a3"
      },
      "outputs": [],
      "source": [
        "# Siamese Model\n",
        "class SiameseModel(nn.Module):\n",
        "    def __init__(self,out_features=2,pretrained=True):\n",
        "        super().__init__()\n",
        "        self.model = nn.Sequential(\n",
        "            nn.Conv2d(3, 32, kernel_size = 3),\n",
        "            nn.ReLU(inplace=True),\n",
        "            nn.BatchNorm2d(32),\n",
        "            nn.Dropout2d(p=.2),\n",
        "\n",
        "            nn.Conv2d(32, 64, kernel_size=3),\n",
        "            nn.ReLU(inplace=True),\n",
        "            nn.BatchNorm2d(64),\n",
        "            nn.Dropout2d(p=.2),\n",
        "\n",
        "            nn.MaxPool2d(kernel_size=3),\n",
        "\n",
        "            nn.Conv2d(64, 128, kernel_size=3),\n",
        "            nn.ReLU(inplace=True),\n",
        "            nn.BatchNorm2d(128),\n",
        "            nn.Dropout2d(p=.2),\n",
        "\n",
        "            nn.Conv2d(128, 256, kernel_size=3),\n",
        "            nn.ReLU(inplace=True),\n",
        "            nn.BatchNorm2d(256),\n",
        "            nn.Dropout2d(p=.2),\n",
        "\n",
        "            nn.Conv2d(256, 256, kernel_size=3),\n",
        "            nn.ReLU(inplace=True),\n",
        "            nn.BatchNorm2d(256),\n",
        "            nn.Dropout2d(p=.2),\n",
        "\n",
        "            nn.MaxPool2d(kernel_size=3),\n",
        "\n",
        "            nn.Conv2d(256, 128, kernel_size=3),\n",
        "            nn.ReLU(inplace=True),\n",
        "            nn.BatchNorm2d(128),\n",
        "            nn.Dropout2d(p=.2),\n",
        "\n",
        "            nn.Conv2d(128, 128, kernel_size=3),\n",
        "            nn.ReLU(inplace=True),\n",
        "            nn.BatchNorm2d(128),\n",
        "            nn.Dropout2d(p=.2),\n",
        "\n",
        "            nn.Conv2d(128, 64, kernel_size=3),\n",
        "            nn.ReLU(inplace=True),\n",
        "            nn.BatchNorm2d(64),\n",
        "            nn.Dropout2d(p=.2),\n",
        "\n",
        "            nn.MaxPool2d(kernel_size=3),\n",
        "\n",
        "            nn.Conv2d(64, 32, kernel_size=3),\n",
        "            nn.ReLU(inplace=True),\n",
        "            nn.BatchNorm2d(32),\n",
        "            nn.Dropout2d(p=.2),\n",
        "        )\n",
        "        self.pooling = nn.AdaptiveAvgPool2d(1)\n",
        "        self.classifier = nn.Sequential(\n",
        "            nn.Linear(64,2),\n",
        "            nn.ReLU(),\n",
        "            nn.Linear(2, out_features)\n",
        "        )\n",
        "\n",
        "    def forward_once(self, x):\n",
        "        bs = x.size(0)\n",
        "        output = self.model(x)\n",
        "        output = self.pooling(output).view(bs, -1)\n",
        "\n",
        "        return output\n",
        "    def forward(self, image_1,image_2):\n",
        "        output_1 = self.forward_once(image_1)\n",
        "        output_2 = self.forward_once(image_2)\n",
        "\n",
        "        output = torch.cat((output_1, output_2),1)\n",
        "        output = self.classifier(output)\n",
        "\n",
        "        return output\n"
      ]
    },
    {
      "cell_type": "code",
      "source": [
        "# Siamese Data\n",
        "data = pd.read_csv(os.path.join(base_path,'train.csv'))\n",
        "data_without_dup = data.drop_duplicates(subset='label_group')"
      ],
      "metadata": {
        "id": "cXNTICQTG941"
      },
      "id": "cXNTICQTG941",
      "execution_count": null,
      "outputs": []
    },
    {
      "cell_type": "code",
      "source": [
        "posting_id_dict = data.groupby('label_group')['posting_id'].unique().to_dict()\n",
        "title_dict = data.groupby('label_group')['title'].unique().to_dict()\n",
        "image_dict = data.groupby('label_group')['image'].unique().to_dict()"
      ],
      "metadata": {
        "id": "KbllgX4GHLRA"
      },
      "id": "KbllgX4GHLRA",
      "execution_count": null,
      "outputs": []
    },
    {
      "cell_type": "code",
      "source": [
        "label_groups = data_without_dup.label_group.values.tolist()"
      ],
      "metadata": {
        "id": "Qh9Ny0ccHMm4"
      },
      "id": "Qh9Ny0ccHMm4",
      "execution_count": null,
      "outputs": []
    },
    {
      "cell_type": "code",
      "source": [
        "new_data = []\n",
        "for i,label_group in tqdm(enumerate(data_without_dup['label_group'])):\n",
        "    matches = posting_id_dict[label_group].tolist()\n",
        "    titles = title_dict[label_group].tolist()\n",
        "    images = image_dict[label_group].tolist()\n",
        "\n",
        "    index = np.random.randint(2,len(label_groups)-2)\n",
        "    while (index== i):\n",
        "        index = np.random.randint(0,len(label_groups))\n",
        "\n",
        "    if len(matches) == 2:\n",
        "        if len(titles) == 2:\n",
        "            matches.extend(titles)\n",
        "            matches.extend(images)\n",
        "            matches.extend([1])\n",
        "        else:\n",
        "            matches.extend([titles[0],titles[0]])\n",
        "            matches.extend(images)\n",
        "            matches.extend([1])\n",
        "        new_data.append(matches)\n",
        "        new_data.append([matches[0],posting_id_dict[label_groups[index]][0],titles[0],title_dict[label_groups[index]][0],images[0],image_dict[label_groups[index]][0],0])\n",
        "        new_data.append([matches[0],posting_id_dict[label_groups[index+1]][0],titles[0],title_dict[label_groups[index+1]][0],images[0],image_dict[label_groups[index+1]][0],0])\n",
        "        new_data.append([matches[0],posting_id_dict[label_groups[index-1]][0],titles[0],title_dict[label_groups[index-1]][0],images[0],image_dict[label_groups[index-1]][0],0])\n",
        "\n",
        "    else:\n",
        "        for match,title,image in zip(matches[1:],titles[1:],images[1:]):\n",
        "            new_data.append([matches[0],match,titles[0],title,images[0],image,1])\n",
        "            new_data.append([matches[0],posting_id_dict[label_groups[index]][0],titles[0],title_dict[label_groups[index]][0],images[0],image_dict[label_groups[index]][0],0])"
      ],
      "metadata": {
        "colab": {
          "base_uri": "https://localhost:8080/"
        },
        "id": "PIS39NI2HOBt",
        "outputId": "8ed2cdfa-e36b-4579-a9fa-950e2bc88c7e"
      },
      "id": "PIS39NI2HOBt",
      "execution_count": null,
      "outputs": [
        {
          "output_type": "stream",
          "name": "stderr",
          "text": [
            "11014it [00:00, 37148.27it/s]\n"
          ]
        }
      ]
    },
    {
      "cell_type": "code",
      "execution_count": null,
      "id": "434b2199-806f-4122-960e-715b5978382c",
      "metadata": {
        "id": "434b2199-806f-4122-960e-715b5978382c"
      },
      "outputs": [],
      "source": [
        "siamese_data = pd.DataFrame(new_data,columns=['posting_id_1','posting_id_2','title_1','title_2','image_1','image_2','label'])"
      ]
    },
    {
      "cell_type": "code",
      "execution_count": null,
      "id": "c87f5b9c-3bd8-4e99-8a34-4130bac2ee2f",
      "metadata": {
        "colab": {
          "base_uri": "https://localhost:8080/",
          "height": 520
        },
        "id": "c87f5b9c-3bd8-4e99-8a34-4130bac2ee2f",
        "outputId": "813fe4d8-ebcb-42e8-83d6-31ab25f6fed7"
      },
      "outputs": [
        {
          "output_type": "execute_result",
          "data": {
            "text/plain": [
              "           posting_id_1      posting_id_2  \\\n",
              "0       train_129225211  train_2278313361   \n",
              "1       train_129225211  train_3717368125   \n",
              "2       train_129225211   train_247048247   \n",
              "3       train_129225211  train_1595076746   \n",
              "4      train_3386243561  train_3423213080   \n",
              "...                 ...               ...   \n",
              "55701  train_2244662893  train_1478137076   \n",
              "55702  train_4221982820  train_4063409014   \n",
              "55703  train_4221982820  train_2275982538   \n",
              "55704  train_4221982820   train_349402318   \n",
              "55705  train_4221982820   train_544777172   \n",
              "\n",
              "                                                 title_1  \\\n",
              "0                              Paper Bag Victoria Secret   \n",
              "1                              Paper Bag Victoria Secret   \n",
              "2                              Paper Bag Victoria Secret   \n",
              "3                              Paper Bag Victoria Secret   \n",
              "4      Double Tape 3M VHB 12 mm x 4,5 m ORIGINAL / DO...   \n",
              "...                                                  ...   \n",
              "55701  LAMPU HURUF A-Z DAN ANGKA 0-9 \\xe2\\x9d\\xa4\\xef...   \n",
              "55702      Sprei Lady Rose 180x200 King terlaris Keroppi   \n",
              "55703      Sprei Lady Rose 180x200 King terlaris Keroppi   \n",
              "55704      Sprei Lady Rose 180x200 King terlaris Keroppi   \n",
              "55705      Sprei Lady Rose 180x200 King terlaris Keroppi   \n",
              "\n",
              "                                                 title_2  \\\n",
              "0                              PAPER BAG VICTORIA SECRET   \n",
              "1      Celana dalam anak / Celana dalam anak laki lak...   \n",
              "2               MW / GAMIS SET SYARI / FIRDAUS SYARI XXL   \n",
              "3             Hanasui Body Spa Lemon With Collagen 300ml   \n",
              "4      Double Tape VHB 3M ORIGINAL 12mm x 4.5mm Busa ...   \n",
              "...                                                  ...   \n",
              "55701  Denpoo DEP-858VT Electro Pot / Termos Listrik ...   \n",
              "55702       Sprei king ladyrose size 180x200 kerokeroppi   \n",
              "55703  Mika Lampu Stop Nmax NEMO/ Kaca Mika StopLamp ...   \n",
              "55704                                  Live sale 5-35 rb   \n",
              "55705          b\"Jay's Chili Flakes / Remah Cabe [45 g]\"   \n",
              "\n",
              "                                    image_1  \\\n",
              "0      0000a68812bc7e98c42888dfb1c07da0.jpg   \n",
              "1      0000a68812bc7e98c42888dfb1c07da0.jpg   \n",
              "2      0000a68812bc7e98c42888dfb1c07da0.jpg   \n",
              "3      0000a68812bc7e98c42888dfb1c07da0.jpg   \n",
              "4      00039780dfc94d01db8676fe789ecd05.jpg   \n",
              "...                                     ...   \n",
              "55701  fd68da190e8739150321d72eeab52c0d.jpg   \n",
              "55702  ff512b2f4ff8bb431bf089e87c212922.jpg   \n",
              "55703  ff512b2f4ff8bb431bf089e87c212922.jpg   \n",
              "55704  ff512b2f4ff8bb431bf089e87c212922.jpg   \n",
              "55705  ff512b2f4ff8bb431bf089e87c212922.jpg   \n",
              "\n",
              "                                    image_2  label  \n",
              "0      f83b49a86a0ee8592e3bf0204da3fbdf.jpg      1  \n",
              "1      08f64ae0676409b7ad5435ea92fb2c5e.jpg      0  \n",
              "2      08f7c8506c6ad1ff57d9249b50621f80.jpg      0  \n",
              "3      08f268f4793868c9a2280c404e504460.jpg      0  \n",
              "4      8cbe4bf9706bc177fd61071ef776be8c.jpg      1  \n",
              "...                                     ...    ...  \n",
              "55701  94fcbac70cd5d4e17ce667d843181344.jpg      0  \n",
              "55702  ff7180bf7d0cf29f0b173952e6cf7af2.jpg      1  \n",
              "55703  1c163f465acc7e3e74a6af0b0be1b45d.jpg      0  \n",
              "55704  1c17a310fcf5750e557bbc46d33dd87c.jpg      0  \n",
              "55705  1c13f06737084d3e8275d93a95cd0fa2.jpg      0  \n",
              "\n",
              "[55706 rows x 7 columns]"
            ],
            "text/html": [
              "\n",
              "\n",
              "  <div id=\"df-2d3fcc0a-4e6e-48e2-be48-91145dc3c879\">\n",
              "    <div class=\"colab-df-container\">\n",
              "      <div>\n",
              "<style scoped>\n",
              "    .dataframe tbody tr th:only-of-type {\n",
              "        vertical-align: middle;\n",
              "    }\n",
              "\n",
              "    .dataframe tbody tr th {\n",
              "        vertical-align: top;\n",
              "    }\n",
              "\n",
              "    .dataframe thead th {\n",
              "        text-align: right;\n",
              "    }\n",
              "</style>\n",
              "<table border=\"1\" class=\"dataframe\">\n",
              "  <thead>\n",
              "    <tr style=\"text-align: right;\">\n",
              "      <th></th>\n",
              "      <th>posting_id_1</th>\n",
              "      <th>posting_id_2</th>\n",
              "      <th>title_1</th>\n",
              "      <th>title_2</th>\n",
              "      <th>image_1</th>\n",
              "      <th>image_2</th>\n",
              "      <th>label</th>\n",
              "    </tr>\n",
              "  </thead>\n",
              "  <tbody>\n",
              "    <tr>\n",
              "      <th>0</th>\n",
              "      <td>train_129225211</td>\n",
              "      <td>train_2278313361</td>\n",
              "      <td>Paper Bag Victoria Secret</td>\n",
              "      <td>PAPER BAG VICTORIA SECRET</td>\n",
              "      <td>0000a68812bc7e98c42888dfb1c07da0.jpg</td>\n",
              "      <td>f83b49a86a0ee8592e3bf0204da3fbdf.jpg</td>\n",
              "      <td>1</td>\n",
              "    </tr>\n",
              "    <tr>\n",
              "      <th>1</th>\n",
              "      <td>train_129225211</td>\n",
              "      <td>train_3717368125</td>\n",
              "      <td>Paper Bag Victoria Secret</td>\n",
              "      <td>Celana dalam anak / Celana dalam anak laki lak...</td>\n",
              "      <td>0000a68812bc7e98c42888dfb1c07da0.jpg</td>\n",
              "      <td>08f64ae0676409b7ad5435ea92fb2c5e.jpg</td>\n",
              "      <td>0</td>\n",
              "    </tr>\n",
              "    <tr>\n",
              "      <th>2</th>\n",
              "      <td>train_129225211</td>\n",
              "      <td>train_247048247</td>\n",
              "      <td>Paper Bag Victoria Secret</td>\n",
              "      <td>MW / GAMIS SET SYARI / FIRDAUS SYARI XXL</td>\n",
              "      <td>0000a68812bc7e98c42888dfb1c07da0.jpg</td>\n",
              "      <td>08f7c8506c6ad1ff57d9249b50621f80.jpg</td>\n",
              "      <td>0</td>\n",
              "    </tr>\n",
              "    <tr>\n",
              "      <th>3</th>\n",
              "      <td>train_129225211</td>\n",
              "      <td>train_1595076746</td>\n",
              "      <td>Paper Bag Victoria Secret</td>\n",
              "      <td>Hanasui Body Spa Lemon With Collagen 300ml</td>\n",
              "      <td>0000a68812bc7e98c42888dfb1c07da0.jpg</td>\n",
              "      <td>08f268f4793868c9a2280c404e504460.jpg</td>\n",
              "      <td>0</td>\n",
              "    </tr>\n",
              "    <tr>\n",
              "      <th>4</th>\n",
              "      <td>train_3386243561</td>\n",
              "      <td>train_3423213080</td>\n",
              "      <td>Double Tape 3M VHB 12 mm x 4,5 m ORIGINAL / DO...</td>\n",
              "      <td>Double Tape VHB 3M ORIGINAL 12mm x 4.5mm Busa ...</td>\n",
              "      <td>00039780dfc94d01db8676fe789ecd05.jpg</td>\n",
              "      <td>8cbe4bf9706bc177fd61071ef776be8c.jpg</td>\n",
              "      <td>1</td>\n",
              "    </tr>\n",
              "    <tr>\n",
              "      <th>...</th>\n",
              "      <td>...</td>\n",
              "      <td>...</td>\n",
              "      <td>...</td>\n",
              "      <td>...</td>\n",
              "      <td>...</td>\n",
              "      <td>...</td>\n",
              "      <td>...</td>\n",
              "    </tr>\n",
              "    <tr>\n",
              "      <th>55701</th>\n",
              "      <td>train_2244662893</td>\n",
              "      <td>train_1478137076</td>\n",
              "      <td>LAMPU HURUF A-Z DAN ANGKA 0-9 \\xe2\\x9d\\xa4\\xef...</td>\n",
              "      <td>Denpoo DEP-858VT Electro Pot / Termos Listrik ...</td>\n",
              "      <td>fd68da190e8739150321d72eeab52c0d.jpg</td>\n",
              "      <td>94fcbac70cd5d4e17ce667d843181344.jpg</td>\n",
              "      <td>0</td>\n",
              "    </tr>\n",
              "    <tr>\n",
              "      <th>55702</th>\n",
              "      <td>train_4221982820</td>\n",
              "      <td>train_4063409014</td>\n",
              "      <td>Sprei Lady Rose 180x200 King terlaris Keroppi</td>\n",
              "      <td>Sprei king ladyrose size 180x200 kerokeroppi</td>\n",
              "      <td>ff512b2f4ff8bb431bf089e87c212922.jpg</td>\n",
              "      <td>ff7180bf7d0cf29f0b173952e6cf7af2.jpg</td>\n",
              "      <td>1</td>\n",
              "    </tr>\n",
              "    <tr>\n",
              "      <th>55703</th>\n",
              "      <td>train_4221982820</td>\n",
              "      <td>train_2275982538</td>\n",
              "      <td>Sprei Lady Rose 180x200 King terlaris Keroppi</td>\n",
              "      <td>Mika Lampu Stop Nmax NEMO/ Kaca Mika StopLamp ...</td>\n",
              "      <td>ff512b2f4ff8bb431bf089e87c212922.jpg</td>\n",
              "      <td>1c163f465acc7e3e74a6af0b0be1b45d.jpg</td>\n",
              "      <td>0</td>\n",
              "    </tr>\n",
              "    <tr>\n",
              "      <th>55704</th>\n",
              "      <td>train_4221982820</td>\n",
              "      <td>train_349402318</td>\n",
              "      <td>Sprei Lady Rose 180x200 King terlaris Keroppi</td>\n",
              "      <td>Live sale 5-35 rb</td>\n",
              "      <td>ff512b2f4ff8bb431bf089e87c212922.jpg</td>\n",
              "      <td>1c17a310fcf5750e557bbc46d33dd87c.jpg</td>\n",
              "      <td>0</td>\n",
              "    </tr>\n",
              "    <tr>\n",
              "      <th>55705</th>\n",
              "      <td>train_4221982820</td>\n",
              "      <td>train_544777172</td>\n",
              "      <td>Sprei Lady Rose 180x200 King terlaris Keroppi</td>\n",
              "      <td>b\"Jay's Chili Flakes / Remah Cabe [45 g]\"</td>\n",
              "      <td>ff512b2f4ff8bb431bf089e87c212922.jpg</td>\n",
              "      <td>1c13f06737084d3e8275d93a95cd0fa2.jpg</td>\n",
              "      <td>0</td>\n",
              "    </tr>\n",
              "  </tbody>\n",
              "</table>\n",
              "<p>55706 rows × 7 columns</p>\n",
              "</div>\n",
              "      <button class=\"colab-df-convert\" onclick=\"convertToInteractive('df-2d3fcc0a-4e6e-48e2-be48-91145dc3c879')\"\n",
              "              title=\"Convert this dataframe to an interactive table.\"\n",
              "              style=\"display:none;\">\n",
              "\n",
              "  <svg xmlns=\"http://www.w3.org/2000/svg\" height=\"24px\"viewBox=\"0 0 24 24\"\n",
              "       width=\"24px\">\n",
              "    <path d=\"M0 0h24v24H0V0z\" fill=\"none\"/>\n",
              "    <path d=\"M18.56 5.44l.94 2.06.94-2.06 2.06-.94-2.06-.94-.94-2.06-.94 2.06-2.06.94zm-11 1L8.5 8.5l.94-2.06 2.06-.94-2.06-.94L8.5 2.5l-.94 2.06-2.06.94zm10 10l.94 2.06.94-2.06 2.06-.94-2.06-.94-.94-2.06-.94 2.06-2.06.94z\"/><path d=\"M17.41 7.96l-1.37-1.37c-.4-.4-.92-.59-1.43-.59-.52 0-1.04.2-1.43.59L10.3 9.45l-7.72 7.72c-.78.78-.78 2.05 0 2.83L4 21.41c.39.39.9.59 1.41.59.51 0 1.02-.2 1.41-.59l7.78-7.78 2.81-2.81c.8-.78.8-2.07 0-2.86zM5.41 20L4 18.59l7.72-7.72 1.47 1.35L5.41 20z\"/>\n",
              "  </svg>\n",
              "      </button>\n",
              "\n",
              "\n",
              "\n",
              "    <div id=\"df-643bf7ed-a318-47e0-969e-a5e030d2cfd9\">\n",
              "      <button class=\"colab-df-quickchart\" onclick=\"quickchart('df-643bf7ed-a318-47e0-969e-a5e030d2cfd9')\"\n",
              "              title=\"Suggest charts.\"\n",
              "              style=\"display:none;\">\n",
              "\n",
              "<svg xmlns=\"http://www.w3.org/2000/svg\" height=\"24px\"viewBox=\"0 0 24 24\"\n",
              "     width=\"24px\">\n",
              "    <g>\n",
              "        <path d=\"M19 3H5c-1.1 0-2 .9-2 2v14c0 1.1.9 2 2 2h14c1.1 0 2-.9 2-2V5c0-1.1-.9-2-2-2zM9 17H7v-7h2v7zm4 0h-2V7h2v10zm4 0h-2v-4h2v4z\"/>\n",
              "    </g>\n",
              "</svg>\n",
              "      </button>\n",
              "    </div>\n",
              "\n",
              "<style>\n",
              "  .colab-df-quickchart {\n",
              "    background-color: #E8F0FE;\n",
              "    border: none;\n",
              "    border-radius: 50%;\n",
              "    cursor: pointer;\n",
              "    display: none;\n",
              "    fill: #1967D2;\n",
              "    height: 32px;\n",
              "    padding: 0 0 0 0;\n",
              "    width: 32px;\n",
              "  }\n",
              "\n",
              "  .colab-df-quickchart:hover {\n",
              "    background-color: #E2EBFA;\n",
              "    box-shadow: 0px 1px 2px rgba(60, 64, 67, 0.3), 0px 1px 3px 1px rgba(60, 64, 67, 0.15);\n",
              "    fill: #174EA6;\n",
              "  }\n",
              "\n",
              "  [theme=dark] .colab-df-quickchart {\n",
              "    background-color: #3B4455;\n",
              "    fill: #D2E3FC;\n",
              "  }\n",
              "\n",
              "  [theme=dark] .colab-df-quickchart:hover {\n",
              "    background-color: #434B5C;\n",
              "    box-shadow: 0px 1px 3px 1px rgba(0, 0, 0, 0.15);\n",
              "    filter: drop-shadow(0px 1px 2px rgba(0, 0, 0, 0.3));\n",
              "    fill: #FFFFFF;\n",
              "  }\n",
              "</style>\n",
              "\n",
              "    <script>\n",
              "      async function quickchart(key) {\n",
              "        const containerElement = document.querySelector('#' + key);\n",
              "        const charts = await google.colab.kernel.invokeFunction(\n",
              "            'suggestCharts', [key], {});\n",
              "      }\n",
              "    </script>\n",
              "\n",
              "      <script>\n",
              "\n",
              "function displayQuickchartButton(domScope) {\n",
              "  let quickchartButtonEl =\n",
              "    domScope.querySelector('#df-643bf7ed-a318-47e0-969e-a5e030d2cfd9 button.colab-df-quickchart');\n",
              "  quickchartButtonEl.style.display =\n",
              "    google.colab.kernel.accessAllowed ? 'block' : 'none';\n",
              "}\n",
              "\n",
              "        displayQuickchartButton(document);\n",
              "      </script>\n",
              "      <style>\n",
              "    .colab-df-container {\n",
              "      display:flex;\n",
              "      flex-wrap:wrap;\n",
              "      gap: 12px;\n",
              "    }\n",
              "\n",
              "    .colab-df-convert {\n",
              "      background-color: #E8F0FE;\n",
              "      border: none;\n",
              "      border-radius: 50%;\n",
              "      cursor: pointer;\n",
              "      display: none;\n",
              "      fill: #1967D2;\n",
              "      height: 32px;\n",
              "      padding: 0 0 0 0;\n",
              "      width: 32px;\n",
              "    }\n",
              "\n",
              "    .colab-df-convert:hover {\n",
              "      background-color: #E2EBFA;\n",
              "      box-shadow: 0px 1px 2px rgba(60, 64, 67, 0.3), 0px 1px 3px 1px rgba(60, 64, 67, 0.15);\n",
              "      fill: #174EA6;\n",
              "    }\n",
              "\n",
              "    [theme=dark] .colab-df-convert {\n",
              "      background-color: #3B4455;\n",
              "      fill: #D2E3FC;\n",
              "    }\n",
              "\n",
              "    [theme=dark] .colab-df-convert:hover {\n",
              "      background-color: #434B5C;\n",
              "      box-shadow: 0px 1px 3px 1px rgba(0, 0, 0, 0.15);\n",
              "      filter: drop-shadow(0px 1px 2px rgba(0, 0, 0, 0.3));\n",
              "      fill: #FFFFFF;\n",
              "    }\n",
              "  </style>\n",
              "\n",
              "      <script>\n",
              "        const buttonEl =\n",
              "          document.querySelector('#df-2d3fcc0a-4e6e-48e2-be48-91145dc3c879 button.colab-df-convert');\n",
              "        buttonEl.style.display =\n",
              "          google.colab.kernel.accessAllowed ? 'block' : 'none';\n",
              "\n",
              "        async function convertToInteractive(key) {\n",
              "          const element = document.querySelector('#df-2d3fcc0a-4e6e-48e2-be48-91145dc3c879');\n",
              "          const dataTable =\n",
              "            await google.colab.kernel.invokeFunction('convertToInteractive',\n",
              "                                                     [key], {});\n",
              "          if (!dataTable) return;\n",
              "\n",
              "          const docLinkHtml = 'Like what you see? Visit the ' +\n",
              "            '<a target=\"_blank\" href=https://colab.research.google.com/notebooks/data_table.ipynb>data table notebook</a>'\n",
              "            + ' to learn more about interactive tables.';\n",
              "          element.innerHTML = '';\n",
              "          dataTable['output_type'] = 'display_data';\n",
              "          await google.colab.output.renderOutput(dataTable, element);\n",
              "          const docLink = document.createElement('div');\n",
              "          docLink.innerHTML = docLinkHtml;\n",
              "          element.appendChild(docLink);\n",
              "        }\n",
              "      </script>\n",
              "    </div>\n",
              "  </div>\n"
            ]
          },
          "metadata": {},
          "execution_count": 15
        }
      ],
      "source": [
        "siamese_data"
      ]
    },
    {
      "cell_type": "code",
      "execution_count": null,
      "id": "5b129065-5827-402d-86f3-ff0f8332ed51",
      "metadata": {
        "id": "5b129065-5827-402d-86f3-ff0f8332ed51"
      },
      "outputs": [],
      "source": [
        "# Prepare training data\n",
        "train_label_df = siamese_data"
      ]
    },
    {
      "cell_type": "code",
      "execution_count": null,
      "id": "63836fef-ad4a-4a73-b490-7ca84e7e5f8c",
      "metadata": {
        "id": "63836fef-ad4a-4a73-b490-7ca84e7e5f8c"
      },
      "outputs": [],
      "source": [
        "def splitDataset(df,p=0.8):\n",
        "    df=df.sample(frac=1,random_state=seed).reset_index(drop=True)\n",
        "    train_df = df.iloc[:int(len(df)*p)]\n",
        "    valid_df = df.iloc[int(len(df)*p):]\n",
        "    return train_df , valid_df"
      ]
    },
    {
      "cell_type": "code",
      "execution_count": null,
      "id": "da208ed8-80c9-411e-af87-d4a26b290db0",
      "metadata": {
        "id": "da208ed8-80c9-411e-af87-d4a26b290db0"
      },
      "outputs": [],
      "source": [
        "train_df , valid_df = splitDataset(train_label_df,cfg['datasplit'])"
      ]
    },
    {
      "cell_type": "code",
      "execution_count": null,
      "id": "b681fa5a-093d-4521-ba96-f0b601be2978",
      "metadata": {
        "id": "b681fa5a-093d-4521-ba96-f0b601be2978"
      },
      "outputs": [],
      "source": [
        "train_dataset = SiameseDataset(image_1 = train_df['image_1'].values.tolist(),image_2 = train_df['image_2'].values.tolist(),labels = train_df['label'].values.tolist(),dim = (cfg['image_size'],cfg['image_size']),augmentation=get_train_transforms(cfg),)\n",
        "valid_dataset = SiameseDataset(image_1 = valid_df['image_1'].values.tolist(),image_2 = valid_df['image_2'].values.tolist(),labels = valid_df['label'].values.tolist(),dim = (cfg['image_size'],cfg['image_size']),augmentation=get_test_transforms(cfg),)"
      ]
    },
    {
      "cell_type": "code",
      "execution_count": null,
      "id": "ac09a014-332b-4a53-8393-f549d6bb4509",
      "metadata": {
        "id": "ac09a014-332b-4a53-8393-f549d6bb4509"
      },
      "outputs": [],
      "source": [
        "train_loader = torch.utils.data.DataLoader(train_dataset,batch_size=cfg['batch_size'],pin_memory=True,drop_last=False,num_workers=4)\n",
        "valid_loader = torch.utils.data.DataLoader(valid_dataset,batch_size=cfg['batch_size'],pin_memory=True,drop_last=False,num_workers=4)"
      ]
    },
    {
      "cell_type": "code",
      "execution_count": null,
      "id": "f740f832-2424-46b7-a8c8-fcd3540acda1",
      "metadata": {
        "id": "f740f832-2424-46b7-a8c8-fcd3540acda1"
      },
      "outputs": [],
      "source": [
        "# Prepare Model"
      ]
    },
    {
      "cell_type": "code",
      "execution_count": null,
      "id": "b80333bf-1397-4de0-a8a0-9684bf41feaf",
      "metadata": {
        "id": "b80333bf-1397-4de0-a8a0-9684bf41feaf"
      },
      "outputs": [],
      "source": [
        "model = SiameseModel().to(cfg['device'])"
      ]
    },
    {
      "cell_type": "code",
      "execution_count": null,
      "id": "e3fb50df-609a-4180-8615-e2cc6ee44eb6",
      "metadata": {
        "id": "e3fb50df-609a-4180-8615-e2cc6ee44eb6"
      },
      "outputs": [],
      "source": [
        "certification = torch.nn.CrossEntropyLoss()\n",
        "optimizer = torch.optim.AdamW(model.parameters(), lr=cfg['lr'])\n",
        "scheduler = torch.optim.lr_scheduler.CosineAnnealingWarmRestarts(optimizer, T_0=cfg['T0'], T_mult=1, eta_min=cfg['min_lr'], last_epoch=-1)"
      ]
    },
    {
      "cell_type": "code",
      "execution_count": null,
      "id": "94ac3cad-41b4-4aa0-b858-85f50e2c65b3",
      "metadata": {
        "id": "94ac3cad-41b4-4aa0-b858-85f50e2c65b3"
      },
      "outputs": [],
      "source": [
        "def train_epoch(model, dataloader, certification, optimizer):\n",
        "    model.train()\n",
        "    totalloss=0\n",
        "    totalacc=0\n",
        "    with tqdm(dataloader,unit='batch',desc='Train') as tqdm_loader:\n",
        "        for idx,(image_1, image_2,label) in enumerate(tqdm_loader):\n",
        "            image_1 = image_1.to(device=cfg['device'])\n",
        "            image_2 = image_2.to(device=cfg['device'])\n",
        "            label = label.to(device=cfg['device'])\n",
        "            label = torch.tensor(label, dtype=torch.long)\n",
        "\n",
        "            pred = model(image_1,image_2)\n",
        "            loss = certification(pred,label)\n",
        "            pred = pred.cpu().detach().argmax(dim=1)\n",
        "\n",
        "            optimizer.zero_grad()\n",
        "            loss.backward()\n",
        "            optimizer.step()\n",
        "\n",
        "            nowloss = loss.detach().item()\n",
        "            totalloss +=nowloss\n",
        "            acc = accuracy_score(pred,label.cpu())\n",
        "            totalacc +=acc\n",
        "\n",
        "            tqdm_loader.set_postfix(loss=nowloss,avgloss=totalloss/(idx+1),avgACC=totalacc/(idx+1) )\n",
        "\n",
        "@torch.no_grad()\n",
        "def eval_epoch(model, dataloader, certification):\n",
        "    model.eval()\n",
        "    totalloss = 0\n",
        "    bestloss = 10\n",
        "    totalacc = 0\n",
        "    bestacc = 0\n",
        "    with torch.no_grad():\n",
        "        with tqdm(dataloader,unit='batch',desc='Valid') as tqdm_loader:\n",
        "            for idx,(image_1, image_2,label) in enumerate(tqdm_loader):\n",
        "                image_1 = image_1.to(device=cfg['device'])\n",
        "                image_2 = image_2.to(device=cfg['device'])\n",
        "                label = label.to(device=cfg['device'])\n",
        "                label = torch.tensor(label, dtype=torch.long)\n",
        "\n",
        "                pred = model(image_1,image_2)\n",
        "                loss = certification(pred,label)\n",
        "                pred = pred.cpu().detach().argmax(dim=1)\n",
        "\n",
        "                nowloss = loss.detach().item()\n",
        "                totalloss +=nowloss\n",
        "                acc = accuracy_score(pred,label.cpu())\n",
        "                totalacc +=acc\n",
        "\n",
        "                tqdm_loader.set_postfix(loss=nowloss,avgloss=totalloss/(idx+1),avgACC=totalacc/(idx+1) )\n",
        "            avgloss = totalloss/len(tqdm_loader)\n",
        "            avgacc = totalacc/len(tqdm_loader)\n",
        "            if avgacc > bestacc:\n",
        "                bestacc = avgacc\n",
        "                bestloss = avgloss\n",
        "                torch.save(model.state_dict(),'best_model.pkl')\n",
        "                torch.save(model.state_dict(),'best_model.pkl')\n",
        "            elif avgacc == bestacc:\n",
        "                if avgloss <= bestloss:\n",
        "                    bestloss = avgloss\n",
        "                    torch.save(model.state_dict(),'best_model.pkl')\n",
        "                    torch.save(model.state_dict(),'best_model.pkl')"
      ]
    },
    {
      "cell_type": "code",
      "source": [
        "# training\n",
        "for epoch in range(cfg['epoch']):\n",
        "    print('\\nEpoch {}'.format(epoch))\n",
        "    train_epoch(model,train_loader,certification,optimizer)\n",
        "    eval_epoch(model,valid_loader,certification)\n",
        "    scheduler.step()"
      ],
      "metadata": {
        "colab": {
          "base_uri": "https://localhost:8080/"
        },
        "id": "s1ShsI3jFj9t",
        "outputId": "00ddfb9f-a87a-40d4-8251-e453071c970b"
      },
      "id": "s1ShsI3jFj9t",
      "execution_count": null,
      "outputs": [
        {
          "output_type": "stream",
          "name": "stdout",
          "text": [
            "\n",
            "Epoch 0\n"
          ]
        },
        {
          "output_type": "stream",
          "name": "stderr",
          "text": [
            "Train: 100%|██████████| 5571/5571 [36:17<00:00,  2.56batch/s, avgACC=0.532, avgloss=0.679, loss=0.541]\n",
            "Valid: 100%|██████████| 1393/1393 [07:25<00:00,  3.12batch/s, avgACC=0.548, avgloss=0.652, loss=0.754]\n"
          ]
        },
        {
          "output_type": "stream",
          "name": "stdout",
          "text": [
            "\n",
            "Epoch 1\n"
          ]
        },
        {
          "output_type": "stream",
          "name": "stderr",
          "text": [
            "Train: 100%|██████████| 5571/5571 [13:21<00:00,  6.95batch/s, avgACC=0.599, avgloss=0.659, loss=0.581]\n",
            "Valid: 100%|██████████| 1393/1393 [01:16<00:00, 18.23batch/s, avgACC=0.633, avgloss=0.638, loss=0.708]\n"
          ]
        },
        {
          "output_type": "stream",
          "name": "stdout",
          "text": [
            "\n",
            "Epoch 2\n"
          ]
        },
        {
          "output_type": "stream",
          "name": "stderr",
          "text": [
            "Train: 100%|██████████| 5571/5571 [13:21<00:00,  6.95batch/s, avgACC=0.622, avgloss=0.652, loss=0.54]\n",
            "Valid: 100%|██████████| 1393/1393 [01:16<00:00, 18.17batch/s, avgACC=0.642, avgloss=0.631, loss=0.748]\n"
          ]
        },
        {
          "output_type": "stream",
          "name": "stdout",
          "text": [
            "\n",
            "Epoch 3\n"
          ]
        },
        {
          "output_type": "stream",
          "name": "stderr",
          "text": [
            "Train: 100%|██████████| 5571/5571 [13:18<00:00,  6.97batch/s, avgACC=0.627, avgloss=0.648, loss=0.509]\n",
            "Valid: 100%|██████████| 1393/1393 [01:16<00:00, 18.27batch/s, avgACC=0.644, avgloss=0.628, loss=0.752]\n"
          ]
        },
        {
          "output_type": "stream",
          "name": "stdout",
          "text": [
            "\n",
            "Epoch 4\n"
          ]
        },
        {
          "output_type": "stream",
          "name": "stderr",
          "text": [
            "Train: 100%|██████████| 5571/5571 [13:19<00:00,  6.97batch/s, avgACC=0.63, avgloss=0.646, loss=0.565]\n",
            "Valid: 100%|██████████| 1393/1393 [01:16<00:00, 18.17batch/s, avgACC=0.66, avgloss=0.624, loss=0.775]\n"
          ]
        },
        {
          "output_type": "stream",
          "name": "stdout",
          "text": [
            "\n",
            "Epoch 5\n"
          ]
        },
        {
          "output_type": "stream",
          "name": "stderr",
          "text": [
            "Train: 100%|██████████| 5571/5571 [13:19<00:00,  6.97batch/s, avgACC=0.633, avgloss=0.643, loss=0.608]\n",
            "Valid: 100%|██████████| 1393/1393 [01:16<00:00, 18.22batch/s, avgACC=0.67, avgloss=0.614, loss=0.623]\n"
          ]
        }
      ]
    },
    {
      "cell_type": "code",
      "source": [
        "# Configures\n",
        "cfg={}\n",
        "cfg['batch_size'] = 8\n",
        "cfg['lr'] = 1e-4\n",
        "cfg['min_lr'] = 1e-7\n",
        "cfg['image_size'] = 256\n",
        "cfg['datasplit'] = 0.8\n",
        "cfg['epoch'] = 10\n",
        "cfg['device'] = torch.device(\"cuda\" if torch.cuda.is_available() else \"cpu\")\n",
        "cfg['seed'] = 20230712\n",
        "cfg['T0'] = 4"
      ],
      "metadata": {
        "id": "jCzZ2swPFn2r"
      },
      "id": "jCzZ2swPFn2r",
      "execution_count": null,
      "outputs": []
    },
    {
      "cell_type": "code",
      "source": [
        "# training\n",
        "for epoch in range(cfg['epoch']):\n",
        "    print('\\nEpoch {}'.format(epoch))\n",
        "    train_epoch(model,train_loader,certification,optimizer)\n",
        "    eval_epoch(model,valid_loader,certification)\n",
        "    scheduler.step()"
      ],
      "metadata": {
        "colab": {
          "base_uri": "https://localhost:8080/"
        },
        "id": "cIBV586jcbQd",
        "outputId": "739dae06-1651-4240-e203-eafb73d46f5f"
      },
      "id": "cIBV586jcbQd",
      "execution_count": null,
      "outputs": [
        {
          "output_type": "stream",
          "name": "stdout",
          "text": [
            "\n",
            "Epoch 0\n"
          ]
        },
        {
          "output_type": "stream",
          "name": "stderr",
          "text": [
            "Train: 100%|██████████| 5571/5571 [13:04<00:00,  7.10batch/s, avgACC=0.654, avgloss=0.63, loss=0.525]\n",
            "Valid: 100%|██████████| 1393/1393 [01:12<00:00, 19.09batch/s, avgACC=0.686, avgloss=0.597, loss=0.605]\n"
          ]
        },
        {
          "output_type": "stream",
          "name": "stdout",
          "text": [
            "\n",
            "Epoch 1\n"
          ]
        },
        {
          "output_type": "stream",
          "name": "stderr",
          "text": [
            "Train: 100%|██████████| 5571/5571 [13:05<00:00,  7.09batch/s, avgACC=0.653, avgloss=0.629, loss=0.656]\n",
            "Valid: 100%|██████████| 1393/1393 [01:13<00:00, 18.98batch/s, avgACC=0.684, avgloss=0.598, loss=0.595]\n"
          ]
        },
        {
          "output_type": "stream",
          "name": "stdout",
          "text": [
            "\n",
            "Epoch 2\n"
          ]
        },
        {
          "output_type": "stream",
          "name": "stderr",
          "text": [
            "Train: 100%|██████████| 5571/5571 [13:08<00:00,  7.06batch/s, avgACC=0.653, avgloss=0.627, loss=0.522]\n",
            "Valid: 100%|██████████| 1393/1393 [01:13<00:00, 18.98batch/s, avgACC=0.685, avgloss=0.596, loss=0.578]\n"
          ]
        },
        {
          "output_type": "stream",
          "name": "stdout",
          "text": [
            "\n",
            "Epoch 3\n"
          ]
        },
        {
          "output_type": "stream",
          "name": "stderr",
          "text": [
            "Train: 100%|██████████| 5571/5571 [13:06<00:00,  7.08batch/s, avgACC=0.656, avgloss=0.626, loss=0.614]\n",
            "Valid: 100%|██████████| 1393/1393 [01:13<00:00, 19.05batch/s, avgACC=0.686, avgloss=0.595, loss=0.559]\n"
          ]
        },
        {
          "output_type": "stream",
          "name": "stdout",
          "text": [
            "\n",
            "Epoch 4\n"
          ]
        },
        {
          "output_type": "stream",
          "name": "stderr",
          "text": [
            "Train: 100%|██████████| 5571/5571 [13:05<00:00,  7.09batch/s, avgACC=0.656, avgloss=0.627, loss=0.545]\n",
            "Valid: 100%|██████████| 1393/1393 [01:12<00:00, 19.09batch/s, avgACC=0.683, avgloss=0.596, loss=0.597]\n"
          ]
        },
        {
          "output_type": "stream",
          "name": "stdout",
          "text": [
            "\n",
            "Epoch 5\n"
          ]
        },
        {
          "output_type": "stream",
          "name": "stderr",
          "text": [
            "Train: 100%|██████████| 5571/5571 [13:08<00:00,  7.07batch/s, avgACC=0.657, avgloss=0.627, loss=0.475]\n",
            "Valid: 100%|██████████| 1393/1393 [01:13<00:00, 19.07batch/s, avgACC=0.686, avgloss=0.595, loss=0.568]\n"
          ]
        },
        {
          "output_type": "stream",
          "name": "stdout",
          "text": [
            "\n",
            "Epoch 6\n"
          ]
        },
        {
          "output_type": "stream",
          "name": "stderr",
          "text": [
            "Train: 100%|██████████| 5571/5571 [13:10<00:00,  7.04batch/s, avgACC=0.655, avgloss=0.627, loss=0.493]\n",
            "Valid: 100%|██████████| 1393/1393 [01:12<00:00, 19.09batch/s, avgACC=0.688, avgloss=0.594, loss=0.589]\n"
          ]
        },
        {
          "output_type": "stream",
          "name": "stdout",
          "text": [
            "\n",
            "Epoch 7\n"
          ]
        },
        {
          "output_type": "stream",
          "name": "stderr",
          "text": [
            "Train: 100%|██████████| 5571/5571 [13:10<00:00,  7.04batch/s, avgACC=0.657, avgloss=0.625, loss=0.677]\n",
            "Valid: 100%|██████████| 1393/1393 [01:12<00:00, 19.12batch/s, avgACC=0.687, avgloss=0.595, loss=0.588]\n"
          ]
        },
        {
          "output_type": "stream",
          "name": "stdout",
          "text": [
            "\n",
            "Epoch 8\n"
          ]
        },
        {
          "output_type": "stream",
          "name": "stderr",
          "text": [
            "Train: 100%|██████████| 5571/5571 [13:03<00:00,  7.11batch/s, avgACC=0.655, avgloss=0.626, loss=0.487]\n",
            "Valid: 100%|██████████| 1393/1393 [01:13<00:00, 19.07batch/s, avgACC=0.688, avgloss=0.592, loss=0.556]\n"
          ]
        },
        {
          "output_type": "stream",
          "name": "stdout",
          "text": [
            "\n",
            "Epoch 9\n"
          ]
        },
        {
          "output_type": "stream",
          "name": "stderr",
          "text": [
            "Train: 100%|██████████| 5571/5571 [13:09<00:00,  7.06batch/s, avgACC=0.658, avgloss=0.626, loss=0.552]\n",
            "Valid: 100%|██████████| 1393/1393 [01:12<00:00, 19.12batch/s, avgACC=0.689, avgloss=0.592, loss=0.619]\n"
          ]
        }
      ]
    },
    {
      "cell_type": "code",
      "source": [
        "epoch_range = [i for i in range(10)]\n",
        "avgACC_train = [0.654, 0.653, 0.653, 0.656, 0.656, 0.657, 0.655, 0.657, 0.655, 0.658]\n",
        "avgACC_valid = [0.686, 0.684, 0.685, 0.686, 0.683, 0.686, 0.688, 0.687, 0.688, 0.689]\n",
        "avgloss_train = [0.63, 0.629, 0.627, 0.626, 0.627, 0.627, 0.627, 0.625, 0.626, 0.627]\n",
        "avgloss_valid = [0.597, 0.598, 0.596, 0.595, 0.596, 0.595, 0.594, 0.595, 0.592, 0.592]"
      ],
      "metadata": {
        "id": "uWsiBzf6ccuI"
      },
      "id": "uWsiBzf6ccuI",
      "execution_count": null,
      "outputs": []
    },
    {
      "cell_type": "code",
      "source": [
        "import matplotlib.pyplot as plt\n",
        "\n",
        "plt.subplot(1, 2, 1)\n",
        "plt.plot(epoch_range, avgACC_train, label='Training Accuracy')\n",
        "plt.plot(epoch_range, avgACC_valid, label='Validation Accuracy')\n",
        "plt.legend()\n",
        "plt.title('Training and Validation Accuracy')\n",
        "plt.subplot(1, 2, 2)\n",
        "plt.plot(epoch_range, avgloss_train, label='Training Loss')\n",
        "plt.plot(epoch_range, avgloss_valid, label='Validation Loss')\n",
        "plt.legend()\n",
        "plt.title('Training and Validation Loss')\n",
        "plt.tight_layout()\n",
        "plt.show()"
      ],
      "metadata": {
        "colab": {
          "base_uri": "https://localhost:8080/",
          "height": 487
        },
        "id": "iSfHikGqYWJx",
        "outputId": "085a3031-d292-4de4-e635-22f015cbac52"
      },
      "id": "iSfHikGqYWJx",
      "execution_count": null,
      "outputs": [
        {
          "output_type": "display_data",
          "data": {
            "text/plain": [
              "<Figure size 640x480 with 2 Axes>"
            ],
            "image/png": "[encoded data removed]"
          },
          "metadata": {}
        }
      ]
    },
    {
      "cell_type": "code",
      "source": [],
      "metadata": {
        "id": "p3Zjc7KIaRI5"
      },
      "id": "p3Zjc7KIaRI5",
      "execution_count": null,
      "outputs": []
    }
  ],
  "metadata": {
    "kernelspec": {
      "display_name": "Python 3",
      "name": "python3"
    },
    "language_info": {
      "codemirror_mode": {
        "name": "ipython",
        "version": 3
      },
      "file_extension": ".py",
      "mimetype": "text/x-python",
      "name": "python",
      "nbconvert_exporter": "python",
      "pygments_lexer": "ipython3",
      "version": "3.9.13"
    },
    "colab": {
      "provenance": [],
      "gpuType": "A100",
      "machine_shape": "hm"
    },
    "accelerator": "GPU"
  },
  "nbformat": 4,
  "nbformat_minor": 5
}